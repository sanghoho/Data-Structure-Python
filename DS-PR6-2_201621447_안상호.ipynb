{
 "cells": [
  {
   "cell_type": "markdown",
   "metadata": {},
   "source": [
    "# 자료구조 6주차 - 2: 배열구조와 연결된 구조\n",
    "\n",
    "## 2020년 10월 08일 안상호\n",
    "\n",
    "> 단순연결리스트, 원형연결리스트\n",
    " \n",
    "1. 단순 연결 리스트 (스택, 리스트)\n",
    "2. 원형 연결 리스트  (큐)\n",
    "\n",
    "\n",
    "\n",
    "---\n",
    "\n",
    "\n"
   ]
  },
  {
   "cell_type": "markdown",
   "metadata": {},
   "source": [
    "# 연결된 구조란?\n",
    "\n",
    "\n",
    "> 연결된 구조는 흩어진 데이터를 링크로 연결해서 관리 \n",
    "\n",
    "- 배열 구조: 메모리상에서 순차적으로 저장\n",
    "- 연결된 구조: 시작 항목부터 하나씩 차례대로 찾아들어감\n",
    "    + 용량이 고정되지 않음 (scailability)\n",
    "    + 중간에 자료를 삽입하거나 삭제하는 것이 용이\n",
    "        - 항목 삽입 자체는 $O(1)$ but n 번째 항목에 접근하는데 $O(n)$의 시간이 걸림.\n",
    "        \n",
    "        \n",
    "### 연결 리스트의 구조\n",
    "- 노드 (node)\n",
    "    + 데이터(data) 필드\n",
    "    + 링크(link) 필드\n",
    "        - 다음 데이터가 어디인지\n",
    "        - 마지막 노드는 링크필드 None으로 알려주면 됨\n",
    "- 헤드 포인터 (head pointer)\n",
    "    + 첫번째 노드가 어디있는지\n",
    "    + Python이 아닌, C와 같은 언어에서는 포인터로 구현했을 것\n",
    "\n",
    "### 연결 리스트의 종류\n",
    "\n",
    "- 단순 연결 리스트 (singly linked list)\n",
    "    + 마지막 노드 링크필드 None\n",
    "- 원형 연결 리스트 (circular linked list)\n",
    "    + 마지막 노드 링크필드가 처음 노드로\n",
    "- 이중 연결 리스트 (doubly linked list)\n",
    "    + 선행(Previous)노드 후속(Next)노드 찾아갈 수 있다.\n"
   ]
  },
  {
   "cell_type": "code",
   "execution_count": 1,
   "metadata": {},
   "outputs": [],
   "source": [
    "class Node:                                 # 단순연결리스트를 위한 노드 클래스\n",
    "    def __init__(self, elem, link=None):    # 생성자. 디폴트 인수 사용\n",
    "        self.data = elem                     # 데이터 멤버 생성 및 초기화\n",
    "        self.link = link                     # 링크 생성 및 초기화"
   ]
  },
  {
   "cell_type": "markdown",
   "metadata": {},
   "source": [
    "---\n",
    "\n",
    "# 1. 단순 연결 리스트\n",
    "\n",
    "## 1.1. 연결된 스택\n",
    "\n",
    "단순 연결 리스트의 가장 간단한 응용\n",
    "\n",
    "헤드포인터를 top으로 삼는다.\n",
    "\n",
    "- 노드 클래스"
   ]
  },
  {
   "cell_type": "markdown",
   "metadata": {},
   "source": [
    "- 연결된 스택 클래스\n",
    "    + `push()`: 삽입 연산\n",
    "        1. 입력 데이터 E를 이용해 새로운 노드 n을 생성함: n = Node(E)\n",
    "        2. n의 링크가 시작노드를 가리키도록 함: n.link = top\n",
    "        3. top이 n을 가리키도록 함: top = n\n",
    "    + `pop()`: 삭제 연산\n",
    "            - 메모리 해제를 신경 쓸 필요 없음! (참조 없으면 자동으로 삭제될 것)\n",
    "        1. 변수 n이 시작노드를 가리키도록 함: n = top\n",
    "        2. top이 다음노드를 가리키도록 함: top = n.link\n",
    "        3. n이 가리키는 노드의 데이터를 반환함: return n.data\n",
    "    + `size()`: 전체 노드의 방문"
   ]
  },
  {
   "cell_type": "code",
   "execution_count": 18,
   "metadata": {},
   "outputs": [],
   "source": [
    "class LinkedStack:\n",
    "    def __init__(self): # 생성자\n",
    "        self.top = None # top 생성 및 초기화 \n",
    "        \n",
    "    def isEmpty(self): return self.top == None   # 공백상태 검사\n",
    "    def clear(self): self.top = None              # 스택 초기화 \n",
    "        \n",
    "    ## 삽입 연산\n",
    "    def push(self, item):           # 연결된 스택의 삽입연산\n",
    "        n = Node(item, self.top)    # Step1 + Step2\n",
    "        self.top = n                # Step3  \n",
    "        \n",
    "    ## 삭제 연산\n",
    "    def pop(self):                  # 연결된 스택의 삭제연산\n",
    "        if not self.isEmpty():      # 공백이 아니면\n",
    "            n = self.top            # Step1\n",
    "            self.top = n.link  # Step2\n",
    "            return n.data           # Step3 \n",
    "        \n",
    "    def peek(self):\n",
    "        if not self.isEmpty():\n",
    "            return self.top.data\n",
    "    \n",
    "    ## 전체 노드의 방문\n",
    "    def size(self):                 # 스택의 항목 수 계산\n",
    "        node = self.top             # 시작 노드 n\n",
    "        count = 0\n",
    "        while not node == None:     # node가 None이 아닐 때 까지\n",
    "            node = node.link         # 다음 노드로 이동\n",
    "            count += 1               # count 증가\n",
    "        return count                 # count 반환 \n",
    "    \n",
    "    def display(self, msg='LinkedStack:'):\n",
    "        print(msg, end='')\n",
    "        node = self.top\n",
    "        while not node == None:\n",
    "            print(node.data, end=' ')\n",
    "            node = node.link\n",
    "        print()"
   ]
  },
  {
   "cell_type": "code",
   "execution_count": 20,
   "metadata": {},
   "outputs": [
    {
     "name": "stdout",
     "output_type": "stream",
     "text": [
      " 스택 even push 5회: 8 6 4 2 0 \n",
      " 스택 odd  push 5회: 9 7 5 3 1 \n",
      " 스택 even      peek:  8\n",
      " 스택 odd       peek:  9\n",
      " 스택 even  pop 2회: 4 2 0 \n",
      " 스택 odd   pop 3회: 3 1 \n"
     ]
    }
   ],
   "source": [
    "odd = LinkedStack()\n",
    "even = LinkedStack()\n",
    "for i in range(10):\n",
    "    if i%2 == 0: even.push(i)\n",
    "    else: odd.push(i)\n",
    "        \n",
    "even.display(' 스택 even push 5회: ')\n",
    "odd.display(' 스택 odd  push 5회: ')\n",
    "\n",
    "print(' 스택 even      peek: ', even.peek())\n",
    "print(' 스택 odd       peek: ', odd.peek())\n",
    "\n",
    "for _ in range(2): even.pop()\n",
    "for _ in range(3): odd.pop()\n",
    "\n",
    "even.display(' 스택 even  pop 2회: ')\n",
    "odd.display(' 스택 odd   pop 3회: ')"
   ]
  },
  {
   "cell_type": "code",
   "execution_count": 15,
   "metadata": {},
   "outputs": [
    {
     "data": {
      "text/plain": [
       "<__main__.Node at 0x1d97e3aa160>"
      ]
     },
     "execution_count": 15,
     "metadata": {},
     "output_type": "execute_result"
    }
   ],
   "source": [
    "\n",
    "even.top.link.link.link"
   ]
  },
  {
   "cell_type": "markdown",
   "metadata": {},
   "source": [
    "## 1.2. 연결된 리스트\n",
    "\n",
    "- 시작은 head, 마지막은 link가 None\n",
    "- 노드 클래스: 연결된 스택에서와 동일\n",
    "\n",
    "- 삽입 연산: INSERT(POS, ELEM)\n",
    "        + getNode로 인해 $O(n)$이지만, before를 알고 있다면 $O(1)$\n",
    "    1. 노드 N이 노드 C를 가리키게 함: `node.link = before.link`\n",
    "    2. 노드 B가 노드 N을 가리키게 함: `before.link = node`\n",
    "- 삭제 연산: DELETE(POS)\n",
    "    1. before의 link가 삭제할 노드의 다음 노드를 가리키도록 함: before.link = before.link.link"
   ]
  },
  {
   "cell_type": "code",
   "execution_count": 22,
   "metadata": {},
   "outputs": [],
   "source": [
    "class LinkedList:\n",
    "    def __init__(self):\n",
    "        self.head = None\n",
    "        \n",
    "    def isEmpty(self): return self.head == None     # 공백상태 검사\n",
    "    def clear(self): self.head = None                # 리스트 초기화\n",
    "    \n",
    "    def size(self):                 # 리스트의 항목 수 계산\n",
    "        node = self.head            # 시작 노드 n\n",
    "        count = 0\n",
    "        while not node == None:     # node가 None이 아닐 때 까지\n",
    "            node = node.link         # 다음 노드로 이동\n",
    "            count += 1               # count 증가\n",
    "        return count                 # count 반환 \n",
    "    \n",
    "    def display(self, msg='LinkedList:'):\n",
    "        print(msg, end='')\n",
    "        node = self.head\n",
    "        while not node == None:\n",
    "            print(node.data, end=' ')\n",
    "            node = node.link \n",
    "        print()\n",
    "        \n",
    "    ## pos번째 노드 봔환: getNode(pos) O(n)\n",
    "    def getNode(self, pos):                # pos번째 노드 반환\n",
    "        if pos < 0: return None\n",
    "        node = self.head;                  # node는 head부터 시작\n",
    "        while pos > 0 and node != None:   # pos번 반복\n",
    "            node = node.link                # node를 다음 노드로 이동\n",
    "            pos -= 1                        # 남은 반복 횟수 줄임 \n",
    "        return node                         # 최종 노드 반환\n",
    "    \n",
    "    def getEntry(self, pos):                # pos번째 노드의 데이터 반환\n",
    "        node = self.getNode(pos)             # pos번째 노드\n",
    "        if node == None: return None       # 찾는 노드가 없는 경우 \n",
    "        else: return node.data              # 그 노드의 데이터 필드 반환 \n",
    "    \n",
    "    def replace(self, pos, elem):\n",
    "        node = self.getNode(pos)\n",
    "        if node != None: node.data = elem\n",
    "            \n",
    "    def find(self, data):\n",
    "        node = self.head\n",
    "        while node is not None:\n",
    "            if node.data == data: return node\n",
    "            node = node.link\n",
    "        return node\n",
    "    \n",
    "    ## 삽입 연산\n",
    "    def insert(self, pos, elem):\n",
    "        before = self.getNode(pos-1)            # before 노드를 찾음\n",
    "        if before == None:                     # 맨 앞에 삽입하는 경우\n",
    "            self.head = Node(elem, self.head)   # 맨 앞에 삽입함\n",
    "        else:                                   # 중간에 삽입하는 경우\n",
    "            node = Node(elem, before.link)      # 노드 생성 + Step1 \n",
    "            before.link = node                  # Step2\n",
    "            \n",
    "    ## 삭제 연산\n",
    "    def delete(self, pos): \n",
    "        before = self.getNode(pos-1)            # before 노드를 찾음\n",
    "        if before == None:                     # 시작 노드를 삭제\n",
    "            if self.head is not None:          # 공백이 아니면\n",
    "                self.head = self.head.link      # head를 다음으로 이동\n",
    "        elif before.link != None:              # 중간에 있는 노드 삭제\n",
    "            before.link = before.link.link      # Step1   \n",
    "        "
   ]
  },
  {
   "cell_type": "code",
   "execution_count": 24,
   "metadata": {},
   "outputs": [
    {
     "name": "stdout",
     "output_type": "stream",
     "text": [
      "단순연결리스트로 구현한 리스트(초기상태):\n",
      "단순연결리스트로 구현한 리스트(삽입x5): 20 30 50 10 40 \n",
      "단순연결리스트로 구현한 리스트(교체x1): 20 30 90 10 40 \n",
      "단순연결리스트로 구현한 리스트(삭제x3): 30 10 \n",
      "단순연결리스트로 구현한 리스트(정리후): \n"
     ]
    }
   ],
   "source": [
    "s = LinkedList()\n",
    "s.display('단순연결리스트로 구현한 리스트(초기상태):')\n",
    "\n",
    "s.insert(0, 10); s.insert(0, 20); s.insert(1, 30)\n",
    "s.insert(s.size(), 40); s.insert(2, 50)\n",
    "s.display('단순연결리스트로 구현한 리스트(삽입x5): ')\n",
    "\n",
    "s.replace(2, 90)\n",
    "s.display('단순연결리스트로 구현한 리스트(교체x1): ')\n",
    "\n",
    "s.delete(2); s.delete(s.size() - 1); s.delete(0)\n",
    "s.display('단순연결리스트로 구현한 리스트(삭제x3): ')\n",
    "\n",
    "s.clear()\n",
    "s.display('단순연결리스트로 구현한 리스트(정리후): ')"
   ]
  },
  {
   "cell_type": "markdown",
   "metadata": {},
   "source": [
    "# 2. 원형연결리스트\n",
    "\n",
    "## 2.1. 연결된 큐\n",
    "\n",
    "- tail을 사용하는 것이 read와 front에 바로 접근할 수 있다는 점에서 훨씬 효율적\n",
    "    + read == tail\n",
    "    + front = tail.link\n",
    "- 역시나 노드는 그대로\n",
    "\n",
    "- 삽입 연산: `ENQUEUE()`\n",
    "    + Case1: 큐가 공백상태인 경우의 삽입 연산\n",
    "    + Case2: 큐가 공백상태가 아닌 경우의 삽입 연산\n",
    "- 삭제 연산: `DEQUEUE()`\n",
    "    + Case1: 큐가 하나의 항목을 갖는 경우의 삭제 연산\n",
    "    + Case2: 큐가 여러 개의 항목을 갖는 경우의 삭제 연산"
   ]
  },
  {
   "cell_type": "code",
   "execution_count": 3,
   "metadata": {},
   "outputs": [],
   "source": [
    "class CircularLinkedQueue:\n",
    "    def __init__(self):\n",
    "        self.tail = None       # tail: 유일한 데이터\n",
    "        \n",
    "    def isEmpty(self): return self.tail == None\n",
    "    def clear(self): self.tail = None\n",
    "    def peek(self):                         # peek 연산\n",
    "        if not self.isEmpty():              # 공백이 아니면\n",
    "            return self.tail.link.data      # front의 data를 반환\n",
    "        \n",
    "    # 삽입연산\n",
    "    def enqueue(self, item):\n",
    "        node = Node(item, None)\n",
    "        if self.isEmpty():\n",
    "            node.link = node\n",
    "            self.tail = node\n",
    "        else:\n",
    "            node.link = self.tail.link\n",
    "            self.tail.link = node\n",
    "            self.tail = node \n",
    "    \n",
    "    # 삭제연산\n",
    "    def dequeue(self):\n",
    "        if not self.isEmpty():\n",
    "            data = self.tail.link.data\n",
    "            if self.tail.link == self.tail:\n",
    "                self.tail = None\n",
    "            else:\n",
    "                self.tail.link = self.tail.link.link\n",
    "            return data\n",
    "        \n",
    "    def size(self):\n",
    "        if self.isEmpty(): return 0         # 공백: 0 반환\n",
    "        else:                                # 공백이 아니면\n",
    "            count = 1                        # count는 최소 1\n",
    "            node = self.tail.link            # node는 front부터 출발\n",
    "            while not node == self.tail:    # node가 rear가 아닌 동안\n",
    "                node = node.link             # 이동\n",
    "                count += 1                   # count 증가\n",
    "            return count                     # 최종 count 반환\n",
    "        \n",
    "    def display(self, msg='CircularLinkedQueue: '):\n",
    "        print(msg, end='')\n",
    "        if not self.isEmpty():\n",
    "            node = self.tail.link\n",
    "            while not node == self.tail:\n",
    "                print(node.data, end=' ')\n",
    "                node = node.link\n",
    "            print(node.data, end=' ')\n",
    "        print()"
   ]
  },
  {
   "cell_type": "markdown",
   "metadata": {},
   "source": [
    "- 용량 제한이 없고, 삽입/삭제가 모두 $O(1)$"
   ]
  },
  {
   "cell_type": "code",
   "execution_count": 5,
   "metadata": {},
   "outputs": [
    {
     "name": "stdout",
     "output_type": "stream",
     "text": [
      "CircularLinkedQueue: 0 1 2 3 4 5 6 7 \n",
      "CircularLinkedQueue: 5 6 7 \n",
      "CircularLinkedQueue: 5 6 7 8 9 10 11 12 13 \n"
     ]
    }
   ],
   "source": [
    "q = CircularLinkedQueue()\n",
    "\n",
    "for i in range(8): q.enqueue(i)\n",
    "q.display()\n",
    "\n",
    "for i in range(5): q.dequeue()\n",
    "q.display()\n",
    "\n",
    "for i in range(8, 14): q.enqueue(i)\n",
    "q.display()\n",
    "\n"
   ]
  }
 ],
 "metadata": {
  "kernelspec": {
   "display_name": "Python 3",
   "language": "python",
   "name": "python3"
  },
  "language_info": {
   "codemirror_mode": {
    "name": "ipython",
    "version": 3
   },
   "file_extension": ".py",
   "mimetype": "text/x-python",
   "name": "python",
   "nbconvert_exporter": "python",
   "pygments_lexer": "ipython3",
   "version": "3.8.5"
  },
  "toc": {
   "base_numbering": 1,
   "nav_menu": {},
   "number_sections": false,
   "sideBar": true,
   "skip_h1_title": false,
   "title_cell": "Table of Contents",
   "title_sidebar": "Contents",
   "toc_cell": false,
   "toc_position": {},
   "toc_section_display": true,
   "toc_window_display": false
  },
  "varInspector": {
   "cols": {
    "lenName": 16,
    "lenType": 16,
    "lenVar": 40
   },
   "kernels_config": {
    "python": {
     "delete_cmd_postfix": "",
     "delete_cmd_prefix": "del ",
     "library": "var_list.py",
     "varRefreshCmd": "print(var_dic_list())"
    },
    "r": {
     "delete_cmd_postfix": ") ",
     "delete_cmd_prefix": "rm(",
     "library": "var_list.r",
     "varRefreshCmd": "cat(var_dic_list()) "
    }
   },
   "types_to_exclude": [
    "module",
    "function",
    "builtin_function_or_method",
    "instance",
    "_Feature"
   ],
   "window_display": false
  }
 },
 "nbformat": 4,
 "nbformat_minor": 2
}
