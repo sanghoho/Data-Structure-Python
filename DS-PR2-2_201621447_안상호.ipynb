{
 "cells": [
  {
   "cell_type": "markdown",
   "metadata": {},
   "source": [
    "# 2020F 자료구조 실습 Week2-2: Python 리뷰2\n",
    "\n",
    "\n",
    "## 2022년 09월 10일 안상호 \n",
    "\n",
    "> 2주차 목요일 실습\n",
    "\n"
   ]
  },
  {
   "cell_type": "code",
   "execution_count": null,
   "metadata": {},
   "outputs": [],
   "source": []
  },
  {
   "cell_type": "markdown",
   "metadata": {},
   "source": [
    "# 2.6. 컬렉션 자료형 (Cont.)\n",
    "\n",
    "## 2.6.4. Dictionary"
   ]
  },
  {
   "cell_type": "code",
   "execution_count": 2,
   "metadata": {},
   "outputs": [
    {
     "name": "stdout",
     "output_type": "stream",
     "text": [
      "사과\n"
     ]
    }
   ],
   "source": [
    "EngDic = {\"apple\": \"사과\", \"orange\": \"오렌지\", \"strawberry\": \"딸기\"}\n",
    "print(EngDic[\"apple\"])"
   ]
  },
  {
   "cell_type": "code",
   "execution_count": 11,
   "metadata": {},
   "outputs": [
    {
     "name": "stdout",
     "output_type": "stream",
     "text": [
      "저는 e-비즈니스학과, 3 학년에 재학중인 안상호입니다.\n"
     ]
    }
   ],
   "source": [
    "student = {\n",
    "    \"이름\": \"안상호\",\n",
    "    \"학번\": \"201621447\",\n",
    "    \"생년월일\": 960514,\n",
    "    \"학과\": \"e-비즈니스\",\n",
    "    \"학년\": 3\n",
    "}\n",
    "info_msg = f\"저는 {student['학과']}학과 {student['학년']} 학년에 재학중인 {student['이름']}입니다.\"\n",
    "print(info_msg)"
   ]
  },
  {
   "cell_type": "code",
   "execution_count": 12,
   "metadata": {},
   "outputs": [],
   "source": [
    "EngDic = {\n",
    "    \"check\": [\"검사하다\", \"조사하다\"], \n",
    "    \"assign\": [\"할당하다\", \"배정하다\"],\n",
    "    \"involved\": [\"관계된\", \"연루된\"]\n",
    "}"
   ]
  },
  {
   "cell_type": "code",
   "execution_count": 13,
   "metadata": {},
   "outputs": [
    {
     "name": "stdout",
     "output_type": "stream",
     "text": [
      "check :\n",
      "검사하다조사하다\n",
      "assign :\n",
      "할당하다배정하다\n",
      "involved :\n",
      "관계된연루된\n"
     ]
    }
   ],
   "source": [
    "for item in EngDic.keys():\n",
    "    print(item, \":\")\n",
    "    for val in EngDic[item]:\n",
    "        print(val, end=\"\")\n",
    "    print()"
   ]
  },
  {
   "cell_type": "markdown",
   "metadata": {},
   "source": [
    "## 2.6.5. Set"
   ]
  },
  {
   "cell_type": "code",
   "execution_count": null,
   "metadata": {},
   "outputs": [],
   "source": [
    " "
   ]
  },
  {
   "cell_type": "markdown",
   "metadata": {},
   "source": [
    "# 2.7. 사용자 정의 함수"
   ]
  },
  {
   "cell_type": "code",
   "execution_count": null,
   "metadata": {},
   "outputs": [],
   "source": [
    "def find_min_max(A):\n",
    "    min_value = A[0]\n",
    "    max_value = A[0]\n",
    "    for i in range(1, len(A)):\n",
    "        if max_value < A[i]: \n",
    "            max_value = A[i]\n",
    "        if min_value > A[i]:\n",
    "            min_value = A[i]\n",
    "    return min_value, max_value\n",
    "\n",
    "\n",
    "data = [5, 3, 8, 4, 9, 1, 6, 2, 7]\n"
   ]
  },
  {
   "cell_type": "markdown",
   "metadata": {},
   "source": [
    "# 2.8. 변수의 범위"
   ]
  },
  {
   "cell_type": "code",
   "execution_count": null,
   "metadata": {},
   "outputs": [],
   "source": []
  },
  {
   "cell_type": "markdown",
   "metadata": {},
   "source": [
    "# 2.9. 모듈과 이름공간(NAMESAPCE)\n",
    "\n",
    "충돌나지 않게 (겹치지 않게) 조심하자"
   ]
  },
  {
   "cell_type": "code",
   "execution_count": 41,
   "metadata": {},
   "outputs": [
    {
     "data": {
      "text/plain": [
       "(1024.0, 31.622776601683793)"
      ]
     },
     "execution_count": 41,
     "metadata": {},
     "output_type": "execute_result"
    }
   ],
   "source": [
    "from math import pow, sqrt\n",
    "\n",
    "result = pow(2, 10)\n",
    "dist = sqrt(1000)\n",
    "\n",
    "result, dist"
   ]
  },
  {
   "cell_type": "markdown",
   "metadata": {},
   "source": [
    "# 2.10 클래스"
   ]
  },
  {
   "cell_type": "code",
   "execution_count": 25,
   "metadata": {},
   "outputs": [],
   "source": [
    "class Car:\n",
    "    def __init__(self, color, speed=0): # 생성자 함수\n",
    "        self.color = color              # 데이터 멤버 color 정의 및 초기화\n",
    "        self.speed = speed              # 데이터 멤버 speed 정의 및 초기화\n",
    "    \n",
    "    ## 멤버 함수    \n",
    "    def speedUp(self): self.speed += 10\n",
    "    def speedDown(self): self.speed -= 10\n",
    "    \n",
    "    "
   ]
  },
  {
   "cell_type": "code",
   "execution_count": 26,
   "metadata": {},
   "outputs": [],
   "source": [
    "car1 = Car(\"black\", 0)\n",
    "car2 = Car('red', 120)\n",
    "car3 = Car(\"yellow\", 30)\n",
    "car4 = Car('blue', 0)\n",
    "car5 = Car('green')"
   ]
  },
  {
   "cell_type": "code",
   "execution_count": 27,
   "metadata": {},
   "outputs": [],
   "source": [
    "car2.speedDown()\n",
    "car4.speedUp()"
   ]
  },
  {
   "cell_type": "markdown",
   "metadata": {},
   "source": [
    "# 2.11. 연산자 중복 (Override)"
   ]
  },
  {
   "cell_type": "code",
   "execution_count": 28,
   "metadata": {},
   "outputs": [],
   "source": [
    "class Car:\n",
    "    def __init__(self, color, speed=0): # 생성자 함수\n",
    "        self.color = color              # 데이터 멤버 color 정의 및 초기화\n",
    "        self.speed = speed              # 데이터 멤버 speed 정의 및 초기화\n",
    "    \n",
    "    ## 멤버 함수    \n",
    "    def speedUp(self): self.speed += 10\n",
    "    def speedDown(self): self.speed -= 10\n",
    "    \n",
    "    ## 연산자 중복\n",
    "    def __eq__(self, carB): return self.color == carB.color\n",
    "    def __str__(self): \n",
    "        return f\"color = {self.color}, speed = {self.speed}\""
   ]
  },
  {
   "cell_type": "code",
   "execution_count": 31,
   "metadata": {},
   "outputs": [],
   "source": [
    "car1 = Car(\"black\", 0)\n",
    "car2 = Car('red', 120)\n",
    "car3 = Car(\"yellow\", 30)\n",
    "car4 = Car('blue', 0)\n",
    "car5 = Car('green')\n",
    "car6 = Car('yellow', 10)"
   ]
  },
  {
   "cell_type": "code",
   "execution_count": 32,
   "metadata": {},
   "outputs": [
    {
     "name": "stdout",
     "output_type": "stream",
     "text": [
      "car2 == car6: False\n",
      "car3 == car6: True\n",
      "[car3] color = yellow, speed = 30\n"
     ]
    }
   ],
   "source": [
    "print(f\"car2 == car6: {car2 == car6}\")\n",
    "print(f\"car3 == car6: {car3 == car6}\")\n",
    "\n",
    "print(\"[car3]\", car3)\n",
    "\n"
   ]
  },
  {
   "cell_type": "markdown",
   "metadata": {},
   "source": [
    "# 2.12. 상속"
   ]
  },
  {
   "cell_type": "code",
   "execution_count": 38,
   "metadata": {},
   "outputs": [],
   "source": [
    "class SuperCar(Car):\n",
    "    def __init__(self, color, speed = 0, bTurbo = True):\n",
    "        super().__init__(color, speed)\n",
    "        self.bTurbo = bTurbo\n",
    "        \n",
    "        \n"
   ]
  },
  {
   "cell_type": "code",
   "execution_count": 39,
   "metadata": {},
   "outputs": [],
   "source": [
    "s1 = SuperCar(\"Gold\", 0)\n",
    "s2 = SuperCar(\"White\", 0, False)"
   ]
  },
  {
   "cell_type": "code",
   "execution_count": 40,
   "metadata": {},
   "outputs": [
    {
     "name": "stdout",
     "output_type": "stream",
     "text": [
      "슈퍼카1: color = Gold, speed = 10\n",
      "슈퍼카2: color = White, speed = 10\n"
     ]
    }
   ],
   "source": [
    "s1.speedUp()\n",
    "s2.speedUp()\n",
    "\n",
    "print(\"슈퍼카1:\", s1)\n",
    "print(\"슈퍼카2:\", s2)"
   ]
  },
  {
   "cell_type": "markdown",
   "metadata": {},
   "source": [
    "## 재정의 (OVERRIDING) "
   ]
  },
  {
   "cell_type": "code",
   "execution_count": 42,
   "metadata": {},
   "outputs": [],
   "source": [
    "class SuperCar(Car):\n",
    "    def __init__(self, color, speed = 0, bTurbo = True):\n",
    "        super().__init__(color, speed)\n",
    "        self.bTurbo = bTurbo\n",
    "        \n",
    "    def setTurbo(self, bTurbo = True):\n",
    "        self.bTurbo = bTurbo\n",
    "        \n",
    "    def speedUp(self):\n",
    "        if self.bTurbo:\n",
    "            self.speed += 50\n",
    "        else:\n",
    "            super().speedUp()\n",
    "            \n",
    "    def __str__(self):\n",
    "        if self.bTurbo:\n",
    "            return f\"[{self.color}] [speed = {self.speed}] 터보모드\"\n",
    "        else:\n",
    "            return f\"[{self.color}] [speed = {self.speed}] 일반모드\"\n",
    "        \n",
    "        \n",
    "s1 = SuperCar(\"Gold\", 0)\n",
    "s2 = SuperCar(\"White\", 0, False)"
   ]
  },
  {
   "cell_type": "code",
   "execution_count": 43,
   "metadata": {},
   "outputs": [
    {
     "name": "stdout",
     "output_type": "stream",
     "text": [
      "슈퍼카1: [Gold] [speed = 50] 터보모드\n",
      "슈퍼카2: [White] [speed = 10] 일반모드\n"
     ]
    }
   ],
   "source": [
    "s1.speedUp()\n",
    "s2.speedUp()\n",
    "\n",
    "print(\"슈퍼카1:\", s1)\n",
    "print(\"슈퍼카2:\", s2)"
   ]
  }
 ],
 "metadata": {
  "kernelspec": {
   "display_name": "Python 3",
   "language": "python",
   "name": "python3"
  },
  "language_info": {
   "codemirror_mode": {
    "name": "ipython",
    "version": 3
   },
   "file_extension": ".py",
   "mimetype": "text/x-python",
   "name": "python",
   "nbconvert_exporter": "python",
   "pygments_lexer": "ipython3",
   "version": "3.6.8"
  }
 },
 "nbformat": 4,
 "nbformat_minor": 2
}
