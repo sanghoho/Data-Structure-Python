{
 "cells": [
  {
   "cell_type": "markdown",
   "metadata": {},
   "source": [
    "# 2020F 자료구조 실습 Week2-1: Python 리뷰1\n",
    "\n",
    "## 2022년 09월 09일 안상호 \n",
    "\n",
    "> 1주차의 알고리즘과 2주차 화요일 실습\n",
    "\n"
   ]
  },
  {
   "cell_type": "code",
   "execution_count": 42,
   "metadata": {},
   "outputs": [],
   "source": [
    "import time\n",
    "\n",
    "def check_time(func, **kargs):\n",
    "    start = int(round(time.time() * 1000))\n",
    "    result = func(**kargs)\n",
    "    end = int(round(time.time() * 1000))\n",
    "    return end - start, result"
   ]
  },
  {
   "cell_type": "markdown",
   "metadata": {},
   "source": [
    "# 1. 알고리즘, 시간 복잡도\n",
    "\n",
    "## 1.1. 팩토리얼"
   ]
  },
  {
   "cell_type": "code",
   "execution_count": 1,
   "metadata": {},
   "outputs": [
    {
     "data": {
      "text/plain": [
       "3628800"
      ]
     },
     "execution_count": 1,
     "metadata": {},
     "output_type": "execute_result"
    }
   ],
   "source": [
    "def factorial(n):\n",
    "    if n == 1: return 1\n",
    "    else: return n * factorial(n - 1)\n",
    "    \n",
    "factorial(10)"
   ]
  },
  {
   "cell_type": "markdown",
   "metadata": {},
   "source": [
    "## 1.2. 순환이 빠른 예: 거듭제곱\n",
    "\n",
    "$$O(n)$$"
   ]
  },
  {
   "cell_type": "code",
   "execution_count": 60,
   "metadata": {},
   "outputs": [
    {
     "data": {
      "text/plain": [
       "(229, inf)"
      ]
     },
     "execution_count": 60,
     "metadata": {},
     "output_type": "execute_result"
    }
   ],
   "source": [
    "# O(n)\n",
    "def power_iter(x, n):\n",
    "    result = 1\n",
    "    for i in range(n):\n",
    "        result = result * x\n",
    "    return result\n",
    "\n",
    "check_time(power_iter, x=3.0, n=5000000)"
   ]
  },
  {
   "cell_type": "markdown",
   "metadata": {},
   "source": [
    "$$O(\\log_2 n)$$"
   ]
  },
  {
   "cell_type": "code",
   "execution_count": 61,
   "metadata": {},
   "outputs": [
    {
     "data": {
      "text/plain": [
       "(0, inf)"
      ]
     },
     "execution_count": 61,
     "metadata": {},
     "output_type": "execute_result"
    }
   ],
   "source": [
    "# O(log_2 n)\n",
    "\n",
    "def power(x, n):\n",
    "    if n == 0: return 1\n",
    "    elif (n % 2) == 0:\n",
    "        return power(x * x, n // 2)\n",
    "    else:\n",
    "        return x * power(x * x, (n-1)//2)\n",
    "    \n",
    "check_time(power, x=3.0, n=5000000)"
   ]
  },
  {
   "cell_type": "markdown",
   "metadata": {},
   "source": [
    "## 1.3. 순환이 느린 예: 피보나치 수열"
   ]
  },
  {
   "cell_type": "code",
   "execution_count": 62,
   "metadata": {},
   "outputs": [
    {
     "data": {
      "text/plain": [
       "(35867, 102334155)"
      ]
     },
     "execution_count": 62,
     "metadata": {},
     "output_type": "execute_result"
    }
   ],
   "source": [
    "def fib(n):\n",
    "    if n == 0: return 0\n",
    "    elif n == 1: return 1\n",
    "    else:\n",
    "        return fib(n - 1) + fib(n - 2)\n",
    "\n",
    "check_time(fib, n=40)"
   ]
  },
  {
   "cell_type": "code",
   "execution_count": 63,
   "metadata": {},
   "outputs": [
    {
     "data": {
      "text/plain": [
       "(0, 102334155)"
      ]
     },
     "execution_count": 63,
     "metadata": {},
     "output_type": "execute_result"
    }
   ],
   "source": [
    "def fib_iter(n):\n",
    "    if n < 2: return n\n",
    "    \n",
    "    last = 0\n",
    "    current = 1\n",
    "    for i in range(2, n+1):\n",
    "        tmp = current\n",
    "        current += last\n",
    "        last = tmp\n",
    "    return current\n",
    "\n",
    "check_time(fib_iter, n=40)"
   ]
  },
  {
   "cell_type": "markdown",
   "metadata": {},
   "source": [
    "## 1.4. 하노이탑"
   ]
  },
  {
   "cell_type": "code",
   "execution_count": 41,
   "metadata": {},
   "outputs": [
    {
     "data": {
      "text/plain": [
       "1599670128.2609568"
      ]
     },
     "execution_count": 41,
     "metadata": {},
     "output_type": "execute_result"
    }
   ],
   "source": [
    "time.time()\n",
    "# millis = int(round(time.time() * 1000))\n",
    "# print(millis)"
   ]
  },
  {
   "cell_type": "code",
   "execution_count": 66,
   "metadata": {},
   "outputs": [
    {
     "name": "stdout",
     "output_type": "stream",
     "text": [
      "원판 1: A --> B\n",
      "원판 2: A --> C\n",
      "원판 1: B --> C\n",
      "원판 3: A --> B\n",
      "원판 1: C --> A\n",
      "원판 2: C --> B\n",
      "원판 1: A --> B\n",
      "원판 4: A --> C\n",
      "원판 1: B --> C\n",
      "원판 2: B --> A\n",
      "원판 1: C --> A\n",
      "원판 3: B --> C\n",
      "원판 1: A --> B\n",
      "원판 2: A --> C\n",
      "원판 1: B --> C\n"
     ]
    }
   ],
   "source": [
    "def hanoi_tower(n, fr, tmp, to):\n",
    "    if n == 1:\n",
    "        print(f\"원판 1: {fr} --> {to}\") # 가장 작은 원판을 옮김\n",
    "    else:\n",
    "        hanoi_tower(n - 1, fr, to, tmp) # n-1개의 to를 이용해 tmp로\n",
    "        print(f\"원판 {n}: {fr} --> {to}\") # 하나의 원판을 옮김\n",
    "        hanoi_tower(n - 1, tmp, fr, to) # n-1개를 fr을 이용해 to로\n",
    "        \n",
    "hanoi_tower(4, \"A\", \"B\", \"C\")"
   ]
  },
  {
   "cell_type": "markdown",
   "metadata": {},
   "source": [
    "---\n",
    "\n",
    "# 2. LIST 사용하기\n",
    "\n",
    "\n",
    "\n",
    "## 2.1. 5개의 숫자를 입력 받아 그 합계를 계산"
   ]
  },
  {
   "cell_type": "code",
   "execution_count": 1,
   "metadata": {},
   "outputs": [
    {
     "name": "stdout",
     "output_type": "stream",
     "text": [
      "1번 숫자를 입력하시오 : 10\n",
      "2번 숫자를 입력하시오 : 20\n",
      "3번 숫자를 입력하시오 : 30\n",
      "4번 숫자를 입력하시오 : 40\n",
      "5번 숫자를 입력하시오 : 50\n",
      "숫자의 합계는 150 입니다.\n"
     ]
    }
   ],
   "source": [
    "num = []\n",
    "sum = 0\n",
    "\n",
    "for i in range(5):\n",
    "    newnum = int(input(f\"{i+1}번 숫자를 입력하시오 : \"))\n",
    "    num.append(newnum)\n",
    "    sum += num[i]\n",
    "    \n",
    "print(f\"숫자의 합계는 {sum} 입니다.\")"
   ]
  },
  {
   "cell_type": "markdown",
   "metadata": {},
   "source": [
    "## 2.2. 리스트 내 리스트가 있는 중복 구조 생성 "
   ]
  },
  {
   "cell_type": "code",
   "execution_count": 2,
   "metadata": {},
   "outputs": [
    {
     "name": "stdout",
     "output_type": "stream",
     "text": [
      "[[1, 2, 3], [4, 5, 6], [7, 8, 9]]\n"
     ]
    }
   ],
   "source": [
    "number = []\n",
    "\n",
    "for i in range(1, 9, 3):\n",
    "    small_list= []\n",
    "    for j in range(3):\n",
    "        small_list.append(i + j)\n",
    "    number.append(small_list)\n",
    "print(number)"
   ]
  },
  {
   "cell_type": "markdown",
   "metadata": {},
   "source": [
    "## 2.3. 리스트를 입력 받아서 양수와 음수 개수 세기"
   ]
  },
  {
   "cell_type": "code",
   "execution_count": 4,
   "metadata": {},
   "outputs": [
    {
     "name": "stdout",
     "output_type": "stream",
     "text": [
      "1. 숫자 입력10\n",
      "2. 숫자 입력-10\n",
      "3. 숫자 입력20\n",
      "4. 숫자 입력-20\n",
      "5. 숫자 입력30\n",
      "양의 정수는 3, 음의 정수는 2\n"
     ]
    }
   ],
   "source": [
    "num = []\n",
    "count_plus = 0\n",
    "count_minus = 0\n",
    "for i in range(5):\n",
    "    number = int(input(f\"{i+1}. 숫자 입력\"))\n",
    "    num.append(number)\n",
    "    if num[i] > 0:\n",
    "        count_plus += 1\n",
    "    elif num[i] < 0:\n",
    "        count_minus += 1\n",
    "print(f\"양의 정수는 {count_plus}, 음의 정수는 {count_minus}\")"
   ]
  }
 ],
 "metadata": {
  "kernelspec": {
   "display_name": "Python 3",
   "language": "python",
   "name": "python3"
  },
  "language_info": {
   "codemirror_mode": {
    "name": "ipython",
    "version": 3
   },
   "file_extension": ".py",
   "mimetype": "text/x-python",
   "name": "python",
   "nbconvert_exporter": "python",
   "pygments_lexer": "ipython3",
   "version": "3.6.8"
  }
 },
 "nbformat": 4,
 "nbformat_minor": 2
}
