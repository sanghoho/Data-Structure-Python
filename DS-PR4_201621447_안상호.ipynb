{
 "cells": [
  {
   "cell_type": "markdown",
   "metadata": {},
   "source": [
    "# 자료구조 4주차: Stack\n",
    "\n",
    "## 2020년 09월 22일 안상호\n",
    "\n",
    "\n",
    "\n",
    "1. 스택 소개 \n",
    "2. 스택 구현 \n",
    "3. 스택 응용\n",
    "4. 스택 활용 문제\n",
    "\n",
    "---"
   ]
  },
  {
   "cell_type": "markdown",
   "metadata": {},
   "source": [
    "# 1. 스택 소개\n",
    "\n",
    "## 1.1. 이론\n",
    "\n",
    "- 스택(stack): 쌓아놓은 더미\n",
    "- 후입선출(**LIFO**: **L**ast-**I**n **F**irst-**O**ut )\n",
    "    + 가장 최근에 들어온 데이터가 가장 먼저 나감 \n",
    "    \n",
    "    \n",
    "## 1.2. 스택 추상 자료형\n",
    "\n",
    "- 데이터: 후입선출의 접근 방법을 유지하는 항목들의 모음\n",
    "- 연산\n",
    "    + `Stack()`: 비어 있는 새로운 스택을 만든다.\n",
    "    + `isEmpty()`: 스택이 비어있으면 True 아니면 False\n",
    "    + `push(e)`: 맨위 추가\n",
    "    + `pop()`: 맨위 항목 반환\n",
    "    + `peek()`: 스택 맨위에 있는 항목 삭제하지 않고 반환\n",
    "    + `size()`: 스택내의 모든 항목들의 개수를 반환\n",
    "    + `clear()`: 스택을 공백\n",
    "\n",
    "---"
   ]
  },
  {
   "cell_type": "code",
   "execution_count": null,
   "metadata": {},
   "outputs": [],
   "source": []
  },
  {
   "cell_type": "markdown",
   "metadata": {},
   "source": [
    "# 2. 스택 구현 \n",
    "\n",
    "\n",
    "## 2.1. 배열 구조 (함수)\n",
    "\n",
    "- `top`: 스택 항목을 저장하는 파이썬 리스트\n",
    "- 항목의 개수는 `len(top)`으로 구살 수 있음"
   ]
  },
  {
   "cell_type": "code",
   "execution_count": 1,
   "metadata": {},
   "outputs": [],
   "source": [
    "top = [] # 스택의 데이터: 항목을 위한 공백 리스트\n",
    "def isEmpty():\n",
    "    return len(top) == 0\n",
    "\n",
    "def push(item): # O(1)\n",
    "    top.append(item)\n",
    "    \n",
    "# top.pop(len(top) - 1) 도 가능    \n",
    "def pop(): # O(1)\n",
    "    if not isEmpty():       # 공백상태가 아니면\n",
    "        return top.pop(-1)  # 리스트의 맨 뒤에서 항목을 하나 꺼내고 반환\n",
    "    \n",
    "def peek():\n",
    "    if not isEmpty():\n",
    "        return top[-1]\n",
    "\n",
    "def size(): return len(top)\n",
    "\n",
    "def clear():\n",
    "    global top\n",
    "    top = []"
   ]
  },
  {
   "cell_type": "code",
   "execution_count": 2,
   "metadata": {},
   "outputs": [
    {
     "name": "stdout",
     "output_type": "stream",
     "text": [
      " push 5회:  [1, 2, 3, 4, 5]\n",
      " pop() -->   5\n",
      " pop() -->   4\n",
      " push 2회:  [1, 2, 3]\n"
     ]
    }
   ],
   "source": [
    "for i in range(1, 6):\n",
    "    push(i)\n",
    "print(\" push 5회: \", top)\n",
    "print(\" pop() -->  \", pop())\n",
    "print(\" pop() -->  \", pop())\n",
    "print(\" push 2회: \", top)"
   ]
  },
  {
   "cell_type": "markdown",
   "metadata": {},
   "source": [
    "현재는 동일한 자료형이 아니더라도 스택에 값들이 포함될 수 있다.\n",
    "\n",
    "리스트는 값을 참조하는 형태이므로?\n",
    "\n",
    "그리고 2개 이상의 스택을 활용하기 어렵다.\n",
    "\n",
    "## 2.2. 스택의 구현 (클래스 버전)"
   ]
  },
  {
   "cell_type": "code",
   "execution_count": 3,
   "metadata": {},
   "outputs": [],
   "source": [
    "class Stack:\n",
    "    def __init__(self):\n",
    "        self.top = []\n",
    "        \n",
    "    def isEmpty(self): return len(self.top) == 0\n",
    "    def size(self): return len(self.top)\n",
    "    def clear(self): self.top = []\n",
    "        \n",
    "    def push(self, item):\n",
    "        \"\"\"item 추가\"\"\"\n",
    "        self.top.append(item)\n",
    "        \n",
    "    def pop(self):\n",
    "        if not self.isEmpty():\n",
    "            return self.top.pop(-1)\n",
    "        \n",
    "    def peek(self):\n",
    "        if not self.isEmpty():\n",
    "            return self.top[-1]\n",
    "    # 방법2    \n",
    "    def __str__(self):\n",
    "        return str(self.top[::-1]) # 역순으로 출력. 최근의 항목을 먼저 "
   ]
  },
  {
   "cell_type": "code",
   "execution_count": 4,
   "metadata": {},
   "outputs": [
    {
     "name": "stdout",
     "output_type": "stream",
     "text": [
      " 스택 even push 5회:  [8, 6, 4, 2, 0]\n",
      " 스택 odd  push 5회:  [9, 7, 5, 3, 1]\n",
      " 스택 even    peek:  8\n",
      " 스택 odd     peek:  9\n",
      " 스택 even pop 2회:  [4, 2, 0]\n",
      " 스택 odd  pop 2회:  [5, 3, 1]\n"
     ]
    }
   ],
   "source": [
    "odd = Stack()\n",
    "even = Stack()\n",
    "\n",
    "for i in range(10):\n",
    "    if i%2 == 0: \n",
    "        even.push(i)\n",
    "    else:\n",
    "        odd.push(i)\n",
    "        \n",
    "print(' 스택 even push 5회: ', even)\n",
    "print(' 스택 odd  push 5회: ', odd)\n",
    "print(' 스택 even    peek: ', even.peek())\n",
    "print(' 스택 odd     peek: ', odd.peek())\n",
    "\n",
    "for _ in range(2): even.pop()\n",
    "for _ in range(2): odd.pop()\n",
    "    \n",
    "print(' 스택 even pop 2회: ', even)\n",
    "print(' 스택 odd  pop 2회: ', odd)\n",
    "        "
   ]
  },
  {
   "cell_type": "code",
   "execution_count": 5,
   "metadata": {},
   "outputs": [
    {
     "name": "stdout",
     "output_type": "stream",
     "text": [
      " 스택 even push 5회:  [0, 2, 4]\n",
      " 스택 odd  push 5회:  [1, 3, 5]\n"
     ]
    }
   ],
   "source": [
    "# 방법 1\n",
    "print(' 스택 even push 5회: ', even.top)\n",
    "print(' 스택 odd  push 5회: ', odd.top)\n",
    "\n"
   ]
  },
  {
   "cell_type": "code",
   "execution_count": 6,
   "metadata": {},
   "outputs": [
    {
     "name": "stdout",
     "output_type": "stream",
     "text": [
      " 스택 even push 5회:  [8, 6, 4, 2, 0]\n",
      " 스택 odd  push 5회:  [9, 7, 5, 3, 1]\n",
      " 스택 even    peek:  8\n",
      " 스택 odd     peek:  9\n",
      " 스택 even pop 2회:  [4, 2, 0]\n",
      " 스택 odd  pop 2회:  [5, 3, 1]\n"
     ]
    }
   ],
   "source": [
    "# 방법 2 연산자 중복\n",
    "# 역순으로 값이 보이기 때문에 보다 목적에 부합\n",
    "odd = Stack()\n",
    "even = Stack()\n",
    "\n",
    "for i in range(10):\n",
    "    if i%2 == 0: \n",
    "        even.push(i)\n",
    "    else:\n",
    "        odd.push(i)\n",
    "        \n",
    "print(' 스택 even push 5회: ', even)\n",
    "print(' 스택 odd  push 5회: ', odd)\n",
    "print(' 스택 even    peek: ', even.peek())\n",
    "print(' 스택 odd     peek: ', odd.peek())\n",
    "\n",
    "for _ in range(2): even.pop()\n",
    "for _ in range(2): odd.pop()\n",
    "    \n",
    "print(' 스택 even pop 2회: ', even)\n",
    "print(' 스택 odd  pop 2회: ', odd)\n",
    "        "
   ]
  },
  {
   "cell_type": "markdown",
   "metadata": {},
   "source": [
    "---\n",
    "\n",
    "# 3. 스택 응용\n",
    "\n",
    "## 3.1. 괄호 검사\n",
    "\n",
    "- 조건1: 왼쪽 괄호의 개수와 오른쪽 괄호의 개수가 같아야 한다.\n",
    "- 조건2: 같은 타입의 괄호에서 왼쪽 괄호가 오른쪽 괄호보다 먼저 나와야 한다.\n",
    "- 조건3: 서로 다른 타입의 괄호 쌍이 서로를 교차하면 안 된다. \n",
    "\n",
    "\n",
    "```python\n",
    "{A[(i=1)]-0;}               # 오류 없음\n",
    "if ((i==0) && (j==0):       # 오류: 조건 1 위반 \n",
    "while (it < 10)): { it--; } # 오류: 조건 2 위반\n",
    "A[(i+1])=0;                 # 오류: 조건 3 위반\n",
    "```\n",
    "\n",
    "- 방법\n",
    "    + 문자를 저장하는 스택을 준비한다. 처음에는 공백 상태가 되어야 한다.\n",
    "    + 입력 문자열의 문자를 하나씩 읽어 왼쪽 괄호를 만나면 스택에 삽입한다.\n",
    "    + 오른쪽 괄호를 만나면 pop() 연산으로 가장 최근에 삽입된 괄호를 꺼낸다. 이때 스택이 비었으면 조건 2에 위배된다.\n",
    "    + 꺼낸 괄호가 오른쪽 괄호와 짝이 맞지 않으면 조건 3에 위배된다.\n",
    "    + 끝까지 처리했는데 스택에 괄호가 남아 있으면 조건 1에 위배된다."
   ]
  },
  {
   "cell_type": "code",
   "execution_count": 7,
   "metadata": {},
   "outputs": [],
   "source": [
    "def checkBrackets(statement):\n",
    "    stack = Stack()\n",
    "    for ch in statement:\n",
    "        if ch in ('{', '[', '('):\n",
    "            stack.push(ch)\n",
    "        elif ch in ('}', ']', ')'):\n",
    "            if stack.isEmpty():\n",
    "                return False # 조건 2 위반\n",
    "            else:\n",
    "                left = stack.pop()\n",
    "                if (ch == \"}\" and left != \"{\") or \\\n",
    "                   (ch == \"]\" and left != \"[\") or \\\n",
    "                   (ch == \")\" and left != \"(\"):\n",
    "                    return False # 조건 3 위반\n",
    "    return stack.isEmpty() # False면 조건 1 위반 "
   ]
  },
  {
   "cell_type": "code",
   "execution_count": 8,
   "metadata": {},
   "outputs": [
    {
     "name": "stdout",
     "output_type": "stream",
     "text": [
      "{A[(i=1)]-0;} ---> True\n",
      "if ((i==0) && (j==0): ---> False\n",
      "while (it < 10)): { it--; } ---> False\n",
      "A[(i+1])=0; ---> False\n"
     ]
    }
   ],
   "source": [
    "statement = (\"{A[(i=1)]-0;}\", \"if ((i==0) && (j==0):\", \"while (it < 10)): { it--; }\", \"A[(i+1])=0;\")\n",
    "\n",
    "for s in statement:\n",
    "    m = checkBrackets(s)\n",
    "    print(f\"{s} ---> {m}\")"
   ]
  },
  {
   "cell_type": "code",
   "execution_count": 9,
   "metadata": {},
   "outputs": [],
   "source": [
    "def checkBracketsV2(lines):\n",
    "    stack = Stack()\n",
    "    for line in lines:\n",
    "        print(line)\n",
    "        for ch in line:\n",
    "            if ch in ('{', '[', '('):\n",
    "                stack.push(ch)\n",
    "            elif ch in ('}', ']', ')'):\n",
    "                if stack.isEmpty():\n",
    "                    return False # 조건 2 위반\n",
    "                else:\n",
    "                    left = stack.pop()\n",
    "                    if (ch == \"}\" and left != \"{\") or \\\n",
    "                       (ch == \"]\" and left != \"[\") or \\\n",
    "                       (ch == \")\" and left != \"(\"):\n",
    "                        return False # 조건 3 위반\n",
    "    return stack.isEmpty() # False면 조건 1 위반 "
   ]
  },
  {
   "cell_type": "code",
   "execution_count": 10,
   "metadata": {},
   "outputs": [
    {
     "name": "stdout",
     "output_type": "stream",
     "text": [
      "{A[(i=1)]-0;} \n",
      "\n",
      "while (it < 10)): { it--; }\n",
      "\n"
     ]
    },
    {
     "data": {
      "text/plain": [
       "False"
      ]
     },
     "execution_count": 10,
     "metadata": {},
     "output_type": "execute_result"
    }
   ],
   "source": [
    "filename = \"sample.txt\"\n",
    "with open(filename, \"r\") as f:\n",
    "    lines = f.readlines()\n",
    "    \n",
    "checkBracketsV2(lines)"
   ]
  },
  {
   "cell_type": "markdown",
   "metadata": {},
   "source": [
    "## 3.2. 계산기 프로그램\n",
    "\n",
    "- 스택을 이용한 후위표기 수식의 계산\n",
    "- 스택을 이용한 중위표기 수식의 후위표기 변환\n",
    "    + 컴퓨터는 계산 우선 순위 모르니까 지정해주어야 한다.\n",
    "    + 피연산자만 스택에 넣는다 (나중에 나온게 앞으로 가서 연산)\n",
    "    + 연산자가 나오면 스택에서 두 숫자를 빼서 계산후 다시 스택에 저장\n",
    "    \n",
    "| 전위(prefix) | 중위(infix) | 후위(postfix) |\n",
    "| -------- | -------- | -------- |\n",
    "| `+` A B |  A `+` B |  A B `+` |\n",
    "| `+` 5 `*` A B | 5 `+` A `*` B | 5 A B `*` `+` |\n",
    "\n",
    "\n",
    "### 후위 표기 수식 계산 알고리즘"
   ]
  },
  {
   "cell_type": "code",
   "execution_count": 11,
   "metadata": {},
   "outputs": [],
   "source": [
    "def evalPostfix(expr):\n",
    "    s = Stack()\n",
    "    for token in expr:\n",
    "        if token in \"+-*/\": # 항목이 연산자이면\n",
    "            val2 = s.pop()\n",
    "            val1 = s.pop()\n",
    "            if (token == '+'): s.push(val1 + val2)\n",
    "            elif (token == '-'): s.push(val1 - val2)\n",
    "            elif (token == '*'): s.push(val1 * val2)\n",
    "            elif (token == '/'): s.push(val1 / val2)\n",
    "        else: # 항목이 피연산자이면\n",
    "            s.push( float(token) )\n",
    "            \n",
    "    return s.pop()"
   ]
  },
  {
   "cell_type": "markdown",
   "metadata": {},
   "source": [
    "$$8 \\div 2 - 3 + 3 * 2$$\n",
    "\n",
    "$$1 \\div 2 \\times 4  \\times (1 \\div 4)$$"
   ]
  },
  {
   "cell_type": "code",
   "execution_count": 12,
   "metadata": {},
   "outputs": [
    {
     "name": "stdout",
     "output_type": "stream",
     "text": [
      "['8', '2', '/', '3', '-', '3', '2', '*', '+'] --> 7.0\n",
      "['1', '2', '/', '4', '*', '1', '4', '/', '*'] --> 0.5\n"
     ]
    }
   ],
   "source": [
    "expr1 = ['8', '2', '/', '3', '-', '3', '2', '*', '+']\n",
    "expr2 = ['1', '2', '/', '4', '*', '1', '4', '/', '*']\n",
    "\n",
    "print(expr1, '-->', evalPostfix(expr1))\n",
    "print(expr2, '-->', evalPostfix(expr2))"
   ]
  },
  {
   "cell_type": "markdown",
   "metadata": {},
   "source": [
    "### 중위 표기 수식의 후위 표기 변환\n",
    "- 이번에는 연산자를 스택에 저장해서 계산을 해보자\n",
    "- 중위표기와 후위표기\n",
    "    + 중위와 후위 표기법의 공통점: 피연산자의 순서가 동일\n",
    "    + 연산자들의 순서만 다름(우선순위순서)\n",
    "        + 연산자만 스택에 저장했다가 출력\n",
    "        + $2 + 3*4 \\rightarrow 234 * +$ \n",
    "- 알고리즘\n",
    "    + 피연산자를 만나면 그대로 출력\n",
    "    + 연산자를 만나면 스택에 저장했다가 스택보다 우선 순위가 낮은 연산자가 나오면 그때 출력\n",
    "    + 왼쪽 괄호는 우선순위가 가장 낮은 연산자로 취급\n",
    "    + 오른쪽 괄호가 나오면 스택에서 왼쪽 괄호위에 쌓여있는 모든 연산자를 출력 "
   ]
  },
  {
   "cell_type": "code",
   "execution_count": 15,
   "metadata": {},
   "outputs": [],
   "source": [
    " def precedence(op):\n",
    "        if op == '(' or op == ')': return 0\n",
    "        elif op == '+' or op == '-': return 1\n",
    "        elif op == '*' or op == '/': return 2\n",
    "        else: return -1\n",
    "        \n",
    "\n",
    "        \n",
    "def Infix2Postfix(expr):\n",
    "    s = Stack()\n",
    "    output = []\n",
    "    for term in expr:\n",
    "        if term in '(':\n",
    "            s.push('(')\n",
    "        elif term in ')':\n",
    "            while not s.isEmpty():\n",
    "                op = s.pop()\n",
    "                if op == '(': break;\n",
    "                else:\n",
    "                    output.append(op)\n",
    "                        \n",
    "        elif term in '+-*/':\n",
    "            while not s.isEmpty():\n",
    "                op = s.peek()\n",
    "                if precedence(term) <= precedence(op):\n",
    "                    output.append(op)\n",
    "                    s.pop()\n",
    "                else: break\n",
    "            s.push(term)\n",
    "        else:\n",
    "            output.append(term)\n",
    "    while not s.isEmpty():\n",
    "        output.append(s.pop())\n",
    "    \n",
    "    return output\n",
    "# def Infix2Postfix(expr): # expr: 입력 리스트(중위 표기식)\n",
    "#     s = Stack()\n",
    "#     output = []  # output: 출력 리스트(후위 표기식)\n",
    "#     for term in expr:\n",
    "#         # 왼쪽 괄호이면 스택에 삽입\n",
    "#         if term in '(':\n",
    "#             s.push('(') \n",
    "#         # 오른쪽 괄호이면 \n",
    "#         elif term in ')':\n",
    "#             while not s.isEmpty():\n",
    "#                 op = s.pop()\n",
    "#                 if op == '(': break; # 왼쪽 괄호가 나올때까지\n",
    "#                 else:\n",
    "#                     output.append(op)\n",
    "#         elif term in \"+-*/\":\n",
    "#             while not s.isEmpty():     # 우선순위가 높거나 같은 연산자를\n",
    "#                 op = s.peek             # 스택에서 모두 꺼내 출력\n",
    "#                 if( precedence(term) <= precedence(op) ): \n",
    "#                     output.append(op)\n",
    "#                     s.pop()\n",
    "#                 else: break\n",
    "#             s.push(term)\n",
    "#         else:\n",
    "#             output.append(term)\n",
    "#     while not s.isEmpty():\n",
    "#         output.append(s.pop())\n",
    "        \n",
    "#     return output  \n",
    "\n"
   ]
  },
  {
   "cell_type": "code",
   "execution_count": 16,
   "metadata": {},
   "outputs": [
    {
     "name": "stdout",
     "output_type": "stream",
     "text": [
      " 중위표기: ['8', '/', '2', '-', '3', '+', '(', '3', '*', '2', ')']\n",
      " 후위표기: ['8', '2', '/', '3', '-', '3', '2', '*', '+']\n",
      " 계산결과: 7.0\n",
      "\n",
      " 중위표기: ['1', '/', '2', '*', '4', '*', '(', '1', '/', '4', ')']\n",
      " 후위표기: ['1', '2', '/', '4', '*', '1', '4', '/', '*']\n",
      " 계산결과: 0.5\n",
      "\n"
     ]
    }
   ],
   "source": [
    "infix1 = ['8', '/', '2', '-', '3', '+', '(', '3', '*', '2', ')']\n",
    "infix2 = ['1', '/', '2', '*', '4', '*', '(', '1', '/', '4', ')']\n",
    "postfix1 = Infix2Postfix(infix1)\n",
    "postfix2 = Infix2Postfix(infix2)\n",
    "result1 = evalPostfix(postfix1)\n",
    "result2 = evalPostfix(postfix2)\n",
    "\n",
    "print(f\" 중위표기: {infix1}\")\n",
    "print(f\" 후위표기: {postfix1}\")\n",
    "print(f\" 계산결과: {result1}\", end='\\n\\n')\n",
    "\n",
    "print(f\" 중위표기: {infix2}\")\n",
    "print(f\" 후위표기: {postfix2}\")\n",
    "print(f\" 계산결과: {result2}\", end='\\n\\n')"
   ]
  },
  {
   "cell_type": "markdown",
   "metadata": {},
   "source": [
    "## 3.3. 미로 탐색\n",
    "\n",
    "- 깊이우선탐색 알고리즘"
   ]
  },
  {
   "cell_type": "code",
   "execution_count": 30,
   "metadata": {},
   "outputs": [
    {
     "data": {
      "text/plain": [
       "6"
      ]
     },
     "execution_count": 30,
     "metadata": {},
     "output_type": "execute_result"
    }
   ],
   "source": [
    "import numpy as np\n",
    "\n",
    "maze = np.array([['1', '1', '1', '1', '1', '1'],\n",
    "                 ['e', '0', '0', '0', '0', '1'],\n",
    "                 ['1', '0', '1', '0', '1', '1'],\n",
    "                 ['1', '1', '1', '0', '0', 'x'],\n",
    "                 ['1', '1', '1', '0', '1', '1'],\n",
    "                 ['1', '1', '1', '1', '1', '1']])\n",
    "\n",
    "MAZE_SIZE = maze.shape[1]\n",
    "MAZE_SIZE"
   ]
  },
  {
   "cell_type": "code",
   "execution_count": 36,
   "metadata": {},
   "outputs": [],
   "source": [
    "def isValidPos(x, y, maze):\n",
    "    if x < 0 or y < 0 or x >= MAZE_SIZE or y >= MAZE_SIZE:\n",
    "        return False\n",
    "    else:\n",
    "        return maze[y][x] == '0' or maze[y][x] == 'x'\n",
    "\n",
    "def DFS(maze):\n",
    "    stack = Stack()\n",
    "    stack.push((0, 1))\n",
    "    print('DFS: ')\n",
    "    \n",
    "    while not stack.isEmpty():\n",
    "        here = stack.pop()\n",
    "        print(here, end='->')\n",
    "        x, y = here\n",
    "        if maze[y][x] == 'x':\n",
    "            print('\\n', maze)\n",
    "            return True\n",
    "        else:\n",
    "            maze[y][x] = '.'\n",
    "            if isValidPos(x, y - 1, maze): stack.push((x, y - 1)) # 상\n",
    "            if isValidPos(x, y + 1, maze): stack.push((x, y + 1)) # 하\n",
    "            if isValidPos(x - 1, y, maze): stack.push((x - 1, y)) # 좌\n",
    "            if isValidPos(x + 1, y, maze): stack.push((x + 1, y)) # 우\n",
    "        print(' 현재 스택: ', stack)\n",
    "    print('\\n', maze)\n",
    "    return False "
   ]
  },
  {
   "cell_type": "code",
   "execution_count": 37,
   "metadata": {},
   "outputs": [
    {
     "name": "stdout",
     "output_type": "stream",
     "text": [
      "DFS: \n",
      "(0, 1)-> 현재 스택:  [(1, 1)]\n",
      "(1, 1)-> 현재 스택:  [(2, 1), (1, 2)]\n",
      "(2, 1)-> 현재 스택:  [(3, 1), (1, 2)]\n",
      "(3, 1)-> 현재 스택:  [(4, 1), (3, 2), (1, 2)]\n",
      "(4, 1)-> 현재 스택:  [(3, 2), (1, 2)]\n",
      "(3, 2)-> 현재 스택:  [(3, 3), (1, 2)]\n",
      "(3, 3)-> 현재 스택:  [(4, 3), (3, 4), (1, 2)]\n",
      "(4, 3)-> 현재 스택:  [(5, 3), (3, 4), (1, 2)]\n",
      "(5, 3)->\n",
      " [['1' '1' '1' '1' '1' '1']\n",
      " ['.' '.' '.' '.' '.' '1']\n",
      " ['1' '0' '1' '.' '1' '1']\n",
      " ['1' '1' '1' '.' '.' 'x']\n",
      " ['1' '1' '1' '0' '1' '1']\n",
      " ['1' '1' '1' '1' '1' '1']]\n",
      " --> 미로탐색 성공\n"
     ]
    }
   ],
   "source": [
    "result = DFS(maze.copy())\n",
    "if result: print(' --> 미로탐색 성공')\n",
    "else: print(' --> 미로탐색 실패')"
   ]
  },
  {
   "cell_type": "code",
   "execution_count": 38,
   "metadata": {},
   "outputs": [
    {
     "data": {
      "text/plain": [
       "array([['1', '1', '1', '1', '1', '1'],\n",
       "       ['e', '0', '0', '0', '0', '1'],\n",
       "       ['1', '0', '1', '0', '1', '1'],\n",
       "       ['1', '1', '1', '0', '0', 'x'],\n",
       "       ['1', '1', '1', '0', '1', '1'],\n",
       "       ['1', '1', '1', '1', '1', '1']], dtype='<U1')"
      ]
     },
     "execution_count": 38,
     "metadata": {},
     "output_type": "execute_result"
    }
   ],
   "source": [
    "maze"
   ]
  }
 ],
 "metadata": {
  "kernelspec": {
   "display_name": "Python 3",
   "language": "python",
   "name": "python3"
  },
  "language_info": {
   "codemirror_mode": {
    "name": "ipython",
    "version": 3
   },
   "file_extension": ".py",
   "mimetype": "text/x-python",
   "name": "python",
   "nbconvert_exporter": "python",
   "pygments_lexer": "ipython3",
   "version": "3.8.2"
  },
  "toc": {
   "base_numbering": 1,
   "nav_menu": {},
   "number_sections": false,
   "sideBar": true,
   "skip_h1_title": false,
   "title_cell": "Table of Contents",
   "title_sidebar": "Contents",
   "toc_cell": false,
   "toc_position": {},
   "toc_section_display": true,
   "toc_window_display": false
  },
  "varInspector": {
   "cols": {
    "lenName": 16,
    "lenType": 16,
    "lenVar": 40
   },
   "kernels_config": {
    "python": {
     "delete_cmd_postfix": "",
     "delete_cmd_prefix": "del ",
     "library": "var_list.py",
     "varRefreshCmd": "print(var_dic_list())"
    },
    "r": {
     "delete_cmd_postfix": ") ",
     "delete_cmd_prefix": "rm(",
     "library": "var_list.r",
     "varRefreshCmd": "cat(var_dic_list()) "
    }
   },
   "types_to_exclude": [
    "module",
    "function",
    "builtin_function_or_method",
    "instance",
    "_Feature"
   ],
   "window_display": false
  }
 },
 "nbformat": 4,
 "nbformat_minor": 2
}
