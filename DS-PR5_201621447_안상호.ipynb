{
 "cells": [
  {
   "cell_type": "markdown",
   "metadata": {},
   "source": [
    "# 자료구조 5주차: Queue\n",
    "\n",
    "## 2020년 09월 29일 안상호\n",
    "\n",
    "\n",
    " \n",
    "1. 큐  소개 \n",
    "2. 큐 구현 \n",
    "3. 큐 응용\n",
    "\n",
    "---"
   ]
  },
  {
   "cell_type": "markdown",
   "metadata": {},
   "source": [
    "# 1. 큐 소개\n",
    "\n",
    "## 1.1. 이론\n",
    "\n",
    "- 큐는 선입선출(**FIFO**: **F**irst-**I**n **F**irst-**O**u   t )\n",
    "    + 가장 처음에 들어온 데이터가 가장 먼저 나감\n",
    "- 삭제는 전단(front), 삽입은 후단(rear)\n",
    "    \n",
    "    \n",
    "## 1.2. 큐 추상 자료형\n",
    "\n",
    "- 데이터: 선입선출의 접근 방법을 유지하는 항목들의 모음\n",
    "- 연산\n",
    "    + `Queue()`: 비어 있는 새로운 큐를 만든다.\n",
    "    + `isEmpty()`: 큐가 비어있으면 True 아니면 False\n",
    "    + `enqueue(x)`: 항목 x를 큐의 맨 뒤에 추가한다. \n",
    "    + `dequeue()`: 큐의 맨 앞에 있는 항목을 꺼내 반환한다.\n",
    "    + `peek()`: 큐의 맨 앞에 있는 항목을 삭제하지 않고 반환한다. \n",
    "    + `size()`: 큐의 모든 항목들의 개수를 반환\n",
    "    + `clear()`: 큐를 공백\n",
    "\n",
    "- 응용 예시\n",
    "    + 서비스센터의 콜큐\n",
    "    + 프린터와 컴퓨터 사이의 인쇄 작업 큐\n",
    "    + 실시간 비디오 스트리밍에서의 버퍼링\n",
    "    + 시뮬레이션 대기열\n",
    "    + 통신에서의 데이터 패킷들의 모델링에 이용  \n",
    "---"
   ]
  },
  {
   "cell_type": "code",
   "execution_count": null,
   "metadata": {},
   "outputs": [],
   "source": []
  },
  {
   "cell_type": "markdown",
   "metadata": {},
   "source": [
    "# 2. 큐 구현 \n",
    "\n",
    "## 2.1. 선형큐 (함수)\n"
   ]
  },
  {
   "cell_type": "code",
   "execution_count": null,
   "metadata": {},
   "outputs": [],
   "source": [
    "items = []\n",
    "\n",
    "def isEmpty():\n",
    "    return len(items) == 0\n",
    "\n",
    "def enqueue(item):\n",
    "    items.append(item)\n",
    "    \n",
    "def dequeue():\n",
    "    if not isEmpty():\n",
    "        return items.pop(0)\n",
    "\n",
    "def peek():\n",
    "    if not isEmpty(): return items[-1]"
   ]
  },
  {
   "cell_type": "markdown",
   "metadata": {},
   "source": [
    "## 2.2. 원형 큐\n",
    "\n",
    "- 파이썬의 리스트 사용\n",
    "- 리스트의 크기가 미리 결정되어야 함"
   ]
  },
  {
   "cell_type": "code",
   "execution_count": 1,
   "metadata": {},
   "outputs": [],
   "source": [
    "MAX_QSIZE = 10\n",
    "\n",
    "class CircularQueue:\n",
    "    def __init__(self, MAX_QSIZE):\n",
    "        self.front = 0\n",
    "        self.rear = 0\n",
    "        self.MAX_QSIZE = MAX_QSIZE\n",
    "        self.items = [None] * self.MAX_QSIZE\n",
    "        \n",
    "    def isEmpty(self): return self.front == self.rear\n",
    "    def isFull(self): return self.front == (self.rear+1) % self.MAX_QSIZE\n",
    "    def clear(self): self.front = self.rear\n",
    "        \n",
    "        \n",
    "    def enqueue(self, item):\n",
    "        \"\"\"\n",
    "        포화상태가 아니면 rear를 회전하고,\n",
    "        rear 위치에 item 삽입\n",
    "        \"\"\"\n",
    "        if not self.isFull():\n",
    "            self.rear = (self.rear+1) % self.MAX_QSIZE\n",
    "            self.items[self.rear] = item \n",
    "    \n",
    "    def dequeue(self):\n",
    "        \"\"\"\n",
    "        공백상태가 아니면 front를 회전하고,\n",
    "        front위치의 항목을 반환\n",
    "        \"\"\"\n",
    "        if not self.isEmpty():\n",
    "            self.front = (self.front+1) % self.MAX_QSIZE\n",
    "            return self.items[self.front]\n",
    "        \n",
    "    def peek(self):\n",
    "        if not self.isEmpty():\n",
    "            return self.items[(self.front+1) % self.MAX_QSIZE ]\n",
    "    \n",
    "    def size(self):\n",
    "        return (self.rear - self.front + self.MAX_QSIZE) % self.MAX_QSIZE\n",
    "    \n",
    "    def display(self):\n",
    "        out = []\n",
    "        if self.front < self.rear:\n",
    "            out = self.items[self.front+1:self.rear+1]\n",
    "        else:\n",
    "            out = self.items[self.front+1:self.MAX_QSIZE] + self.items[0:self.rear+1]\n",
    "            \n",
    "        print(f\"[f={self.front}, r={self.rear}] ==> {out}\")"
   ]
  },
  {
   "cell_type": "code",
   "execution_count": 3,
   "metadata": {},
   "outputs": [
    {
     "name": "stdout",
     "output_type": "stream",
     "text": [
      "[f=0, r=8] ==> [0, 1, 2, 3, 4, 5, 6, 7]\n",
      "[f=5, r=8] ==> [5, 6, 7]\n"
     ]
    },
    {
     "data": {
      "text/plain": [
       "[None, 0, 1, 2, 3, 4, 5, 6, 7, None]"
      ]
     },
     "execution_count": 3,
     "metadata": {},
     "output_type": "execute_result"
    }
   ],
   "source": [
    "# 테스트 프로그램\n",
    "\n",
    "q = CircularQueue(10)\n",
    "for i in range(8): q.enqueue(i)\n",
    "q.display()\n",
    "\n",
    "for i in range(5): q.dequeue()\n",
    "q.display()\n",
    "\n",
    "q.items"
   ]
  },
  {
   "cell_type": "code",
   "execution_count": 4,
   "metadata": {},
   "outputs": [
    {
     "name": "stdout",
     "output_type": "stream",
     "text": [
      "[f=5, r=4] ==> [5, 6, 7, 8, 9, 10, 11, 12, 13]\n"
     ]
    },
    {
     "data": {
      "text/plain": [
       "[9, 10, 11, 12, 13, 4, 5, 6, 7, 8]"
      ]
     },
     "execution_count": 4,
     "metadata": {},
     "output_type": "execute_result"
    }
   ],
   "source": [
    "\n",
    "for i in range(8,14): q.enqueue(i)\n",
    "q.display()\n",
    "\n",
    "q.items"
   ]
  },
  {
   "cell_type": "markdown",
   "metadata": {},
   "source": [
    "크기가 제한되어 있다는 것이 단점이지만, \n",
    "\n",
    "복잡도가 삽입 삭제가 O(1)이기 때문에 좋다.\n",
    "\n",
    "## 2.3. 파이썬의 QUEUE 모듈\n",
    "\n",
    "큐(Queue)와 스택(LifoQueue) 클래스를 제공\n"
   ]
  },
  {
   "cell_type": "code",
   "execution_count": 7,
   "metadata": {},
   "outputs": [],
   "source": [
    "import queue\n",
    "\n",
    "Q = queue.Queue(maxsize=20) # 큐 객체 생성 (최대크기 20)\n"
   ]
  },
  {
   "cell_type": "code",
   "execution_count": 8,
   "metadata": {},
   "outputs": [
    {
     "name": "stdout",
     "output_type": "stream",
     "text": [
      "큐의 내용: 1 2 3 4 5 6 7 8 9 \n"
     ]
    }
   ],
   "source": [
    "\n",
    "for v in range(1, 10):\n",
    "    Q.put(v) # 삽입\n",
    "print(\"큐의 내용: \", end='')\n",
    "\n",
    "for _ in range(1, 10):\n",
    "    print(Q.get(), end=' ') # 삭제\n",
    "print()"
   ]
  },
  {
   "cell_type": "markdown",
   "metadata": {},
   "source": [
    "---\n",
    "\n",
    "\n",
    "# 3. 큐 응용\n",
    "\n",
    "## 3.1. 너비우선탐색\n",
    "\n",
    "- 큐 응용\n",
    "    + 이진트리의 레벨 순회 (8장)\n",
    "    + 기수정렬에서 레코드의 정렬을 위해 사용 (12장)\n",
    "    + 그래프의 탐색에서 너비우선탐색 (10장)\n",
    "- 미로탐색: 너비우선탐색"
   ]
  },
  {
   "cell_type": "code",
   "execution_count": 11,
   "metadata": {},
   "outputs": [],
   "source": [
    "import numpy as np \n",
    "\n",
    "\n",
    "def isValidPos(x, y, maze):\n",
    "    if x < 0 or y < 0 or x >= MAZE_SIZE or y >= MAZE_SIZE:\n",
    "        return False\n",
    "    else:\n",
    "        return maze[y][x] == '0' or maze[y][x] == 'x'\n",
    "\n",
    "def BFS(maze):\n",
    "    que = CircularQueue(10)\n",
    "    que.enqueue((0, 1))\n",
    "    print('BFS: ')\n",
    "    \n",
    "    while not que.isEmpty():\n",
    "        here = que.dequeue()\n",
    "        print(here, end='->')\n",
    "        x, y = here\n",
    "        if maze[y][x] == 'x': return True\n",
    "        else:\n",
    "            maze[y][x] = '.'\n",
    "            if isValidPos(x, y - 1, maze): que.enqueue((x, y - 1)) # 상\n",
    "            if isValidPos(x, y + 1, maze): que.enqueue((x, y + 1)) # 하\n",
    "            if isValidPos(x - 1, y, maze): que.enqueue((x - 1, y)) # 좌\n",
    "            if isValidPos(x + 1, y, maze): que.enqueue((x + 1, y)) # 우\n",
    "    return False "
   ]
  },
  {
   "cell_type": "code",
   "execution_count": 12,
   "metadata": {},
   "outputs": [
    {
     "name": "stdout",
     "output_type": "stream",
     "text": [
      "BFS: \n",
      "(0, 1)->(1, 1)->(1, 2)->(1, 3)->(2, 2)->(1, 4)->(3, 2)->(3, 1)->(3, 3)->(4, 1)->(3, 4)->(4, 4)->(5, 4)-> --> 미로탐색 성공\n"
     ]
    }
   ],
   "source": [
    "maze_map = np.array([['1', '1', '1', '1', '1', '1'],\n",
    "                     ['e', '0', '1', '0', '0', '1'],\n",
    "                     ['1', '0', '0', '0', '1', '1'],\n",
    "                     ['1', '0', '1', '0', '1', '1'],\n",
    "                     ['1', '0', '1', '0', '0', 'x'],\n",
    "                     ['1', '1', '1', '1', '1', '1']])\n",
    "\n",
    "MAZE_SIZE = 6\n",
    "result = BFS(maze_map)\n",
    "\n",
    "if result: print(' --> 미로탐색 성공')\n",
    "else: print(' --> 미로탐색 실패')"
   ]
  }
 ],
 "metadata": {
  "kernelspec": {
   "display_name": "Python 3",
   "language": "python",
   "name": "python3"
  },
  "language_info": {
   "codemirror_mode": {
    "name": "ipython",
    "version": 3
   },
   "file_extension": ".py",
   "mimetype": "text/x-python",
   "name": "python",
   "nbconvert_exporter": "python",
   "pygments_lexer": "ipython3",
   "version": "3.8.2"
  },
  "toc": {
   "base_numbering": 1,
   "nav_menu": {},
   "number_sections": false,
   "sideBar": true,
   "skip_h1_title": false,
   "title_cell": "Table of Contents",
   "title_sidebar": "Contents",
   "toc_cell": false,
   "toc_position": {},
   "toc_section_display": true,
   "toc_window_display": false
  },
  "varInspector": {
   "cols": {
    "lenName": 16,
    "lenType": 16,
    "lenVar": 40
   },
   "kernels_config": {
    "python": {
     "delete_cmd_postfix": "",
     "delete_cmd_prefix": "del ",
     "library": "var_list.py",
     "varRefreshCmd": "print(var_dic_list())"
    },
    "r": {
     "delete_cmd_postfix": ") ",
     "delete_cmd_prefix": "rm(",
     "library": "var_list.r",
     "varRefreshCmd": "cat(var_dic_list()) "
    }
   },
   "types_to_exclude": [
    "module",
    "function",
    "builtin_function_or_method",
    "instance",
    "_Feature"
   ],
   "window_display": false
  }
 },
 "nbformat": 4,
 "nbformat_minor": 2
}
